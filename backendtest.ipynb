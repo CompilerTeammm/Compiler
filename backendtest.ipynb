{
 "cells": [
  {
   "cell_type": "code",
   "execution_count": 11,
   "id": "6807a080",
   "metadata": {},
   "outputs": [],
   "source": [
    "import os\n",
    "import sys\n",
    "import subprocess\n",
    "from contextlib import contextmanager\n",
    "import signal\n",
    "import filecmp\n",
    "import difflib\n",
    "import shutil\n",
    "import time\n",
    "\n",
    "# Configurations\n",
    "toolchain_path = \"/home/r1c0/riscv/bin/riscv64-unknown-linux-gnu-\"\n",
    "compiler_path = \"./build/Compiler\"\n",
    "test_folder=\"./testcase\"\n",
    "sylib_path = \"./RISCVLib/sylib.c\"\n",
    "# xxx.sy 会被复制到./function_test/test.c\n",
    "temp_path = \"./function_test\"\n",
    "pass_args=[\n",
    "                \"-S\",\n",
    "                \"-o\",\n",
    "                \"./function_test/test.s\",\n",
    "                \"./function_test/test.c\",\n",
    "                \"--O1\"\n",
    "            ]\n",
    "Tolerance = True\n",
    "\n",
    "CE_list = [] # Compile Error\n",
    "AE_list = [] # Assembler Error\n",
    "LE_list = [] # Linker Error\n",
    "Time_Out = []\n",
    "WA_list = []\n",
    "AC_list = []\n",
    "TLE_list = []\n",
    "BadTest_list = []\n",
    "\n",
    "Prob_list = []\n",
    "test_list = []"
   ]
  },
  {
   "cell_type": "code",
   "execution_count": 12,
   "id": "dfb5e031",
   "metadata": {},
   "outputs": [],
   "source": [
    "# grab all the testcases\n",
    "# find files recursively\n",
    "def GrabFile():\n",
    "    for root, dirs, files in os.walk(test_folder):\n",
    "        for file in files:\n",
    "            if file.endswith(\".sy\"):\n",
    "                test_list.append(os.path.join(root, file))"
   ]
  },
  {
   "cell_type": "code",
   "execution_count": 13,
   "id": "79f2b686",
   "metadata": {},
   "outputs": [],
   "source": [
    "def CopyFileToTemp(test):\n",
    "    # No Bad Test Now\n",
    "    shutil.copy(test,temp_path+\"/test.c\")\n",
    "    if os.path.exists(test[:-2]+\"in\"):\n",
    "        shutil.copy(test[:-2]+\"in\",temp_path+\"/test.in\")\n",
    "    if os.path.exists(test[:-2]+\"out\"):\n",
    "        shutil.copy(test[:-2]+\"out\",temp_path+\"/test.out\")"
   ]
  },
  {
   "cell_type": "code",
   "execution_count": 14,
   "id": "295e5e9a",
   "metadata": {},
   "outputs": [],
   "source": [
    "def TryCompile(original_case_path):\n",
    "    compile_args=[compiler_path]\n",
    "    for arg in pass_args:\n",
    "        compile_args.append(arg)\n",
    "    try:\n",
    "        ret = subprocess.run(compile_args,timeout=60)\n",
    "    except subprocess.TimeoutExpired:\n",
    "        Time_Out.append(original_case_path)\n",
    "        print(\"Timeout: \"+original_case_path)\n",
    "        return False\n",
    "    if ret.returncode != 0:\n",
    "        CE_list.append(original_case_path)\n",
    "        print(\"CE: \"+original_case_path)\n",
    "        return False\n",
    "    return True"
   ]
  },
  {
   "cell_type": "code",
   "execution_count": 15,
   "id": "a244c752",
   "metadata": {},
   "outputs": [],
   "source": [
    "def TryAssemble(original_case_path):\n",
    "    try:\n",
    "        ret = subprocess.run([toolchain_path+\"as\", temp_path + \"/test.s\", \"-o\", temp_path + \"/test.o\"],timeout=10)\n",
    "    except subprocess.TimeoutExpired:\n",
    "        print(\"IMPOSSIBLE, AS TIMEOUT\")\n",
    "        exit(-1)\n",
    "    if ret.returncode != 0:\n",
    "        AE_list.append(original_case_path)\n",
    "        print(\"AE: \"+original_case_path)\n",
    "        return False\n",
    "    return True"
   ]
  },
  {
   "cell_type": "code",
   "execution_count": 16,
   "id": "c6ff4fa2",
   "metadata": {},
   "outputs": [],
   "source": [
    "def TryLink(orginal_case_path):\n",
    "    try:\n",
    "        ret = subprocess.run([toolchain_path+\"gcc\", temp_path + \"/test.o\", temp_path+\"/sylib.o\", \"-o\", temp_path + \"/test\"],timeout=10)\n",
    "    except subprocess.TimeoutExpired:\n",
    "        print(\"IMPOSSIBLE, LD TIMEOUT\")\n",
    "        exit(-1)\n",
    "    if ret.returncode != 0:\n",
    "        LE_list.append(orginal_case_path)\n",
    "        print(\"LE: \"+orginal_case_path)\n",
    "        return False\n",
    "    return True"
   ]
  },
  {
   "cell_type": "code",
   "execution_count": 17,
   "id": "e896af06",
   "metadata": {},
   "outputs": [],
   "source": [
    "def RunTest(original_case_path, test_args):\n",
    "    start_time=time.time()\n",
    "    try:\n",
    "        if not os.path.exists(temp_path+\"/test.in\"):\n",
    "            ret = subprocess.run(test_args,stdout=subprocess.PIPE,stderr=subprocess.PIPE,timeout=30)\n",
    "        else:\n",
    "            ret = subprocess.run(test_args,stdin=open(temp_path+\"/test.in\"),stdout=subprocess.PIPE,stderr=subprocess.PIPE,timeout=30)\n",
    "    except subprocess.TimeoutExpired:\n",
    "        print(\"TIMEOUT ERROR: \"+original_case_path)\n",
    "        TLE_list.append(original_case_path)\n",
    "        return False\n",
    "    end_time=time.time()\n",
    "    \n",
    "    elasp_time=end_time-start_time\n",
    "    \n",
    "    if not os.path.exists(temp_path + \"/test.out\"):\n",
    "        BadTest_list.append(original_case_path)\n",
    "        return False\n",
    "    else:\n",
    "        out_file=temp_path + \"/test.out\"\n",
    "    \n",
    "    dump_str=ret.stdout.decode()\n",
    "    # dump_str1 = ret1.stdout.decode()\n",
    "    # remove whitesspace in the end\n",
    "    # dump_str=dump_str.rstrip()\n",
    "    # if dump_str1 and not dump_str1.endswith('\\n'):\n",
    "    #     dump_str1 += \"\\n\"\n",
    "    # if not dump_str1.endswith(''):\n",
    "    #     print(\"RISCV Test Error\")\n",
    "    if dump_str and not dump_str.endswith('\\n'):\n",
    "        dump_str += \"\\n\"\n",
    "    dump_str += str(ret.returncode) + \"\\n\"\n",
    "    std_output=open(out_file).read()\n",
    "    diff = difflib.unified_diff(dump_str.splitlines(), std_output.splitlines(), lineterm='')\n",
    "    if(len(list(diff))!=0):\n",
    "        print(\"Wrong Answer: \"+original_case_path)\n",
    "        WA_list.append(original_case_path)\n",
    "        return False\n",
    "    \n",
    "    print(f\"{elasp_time:.2f}---\",end=\"\")  # Print runtime information\n",
    "    return True\n",
    "\n",
    "def LLI_TEST(original_case_path):\n",
    "    print(\"LLI\\t\",end=\":\")\n",
    "    if RunTest(original_case_path,[\"/home/r1c0/llvm-project/build/bin/lli\",temp_path + \"/test.c.ll\"]):\n",
    "        print(\"Pass:\"+original_case_path)\n",
    "        return True\n",
    "    else:\n",
    "        return False\n",
    "\n",
    "def QEMU_TEST(original_case_path):\n",
    "    print(\"QEMU\\t\",end=\":\")\n",
    "    if RunTest(original_case_path,[\"qemu-riscv64\",temp_path + \"/test\"]):\n",
    "        print(\"Pass:\"+original_case_path)\n",
    "        return True\n",
    "    else:\n",
    "        return False"
   ]
  },
  {
   "cell_type": "code",
   "execution_count": 18,
   "id": "2d8d97eb",
   "metadata": {},
   "outputs": [],
   "source": [
    "def Tolerant(FuncList,original_file_name):\n",
    "    for func in FuncList:\n",
    "        ret = func(original_file_name)\n",
    "        if ret == False and Tolerance == False:\n",
    "            print(\"No Tolerence, exit\")\n",
    "            sys.exit(-1)\n",
    "        if ret == False:\n",
    "            return False\n",
    "    return True"
   ]
  },
  {
   "cell_type": "code",
   "execution_count": 19,
   "id": "879a3ed3",
   "metadata": {},
   "outputs": [],
   "source": [
    "def TestSingleCase(test):\n",
    "    CopyFileToTemp(test)\n",
    "    if Tolerant([TryCompile,TryAssemble,TryLink,QEMU_TEST],test)==False:\n",
    "        return\n",
    "    AC_list.append(test)"
   ]
  },
  {
   "cell_type": "code",
   "execution_count": 20,
   "id": "72a01744",
   "metadata": {},
   "outputs": [
    {
     "ename": "FileNotFoundError",
     "evalue": "[Errno 2] No such file or directory: '/home/r1c0/riscv/bin/riscv64-unknown-linux-gnu-gcc'",
     "output_type": "error",
     "traceback": [
      "\u001b[0;31m---------------------------------------------------------------------------\u001b[0m",
      "\u001b[0;31mFileNotFoundError\u001b[0m                         Traceback (most recent call last)",
      "Cell \u001b[0;32mIn[20], line 2\u001b[0m\n\u001b[1;32m      1\u001b[0m \u001b[38;5;66;03m# Compile the sylib.c\u001b[39;00m\n\u001b[0;32m----> 2\u001b[0m \u001b[43msubprocess\u001b[49m\u001b[38;5;241;43m.\u001b[39;49m\u001b[43mrun\u001b[49m\u001b[43m(\u001b[49m\u001b[43m[\u001b[49m\u001b[43mtoolchain_path\u001b[49m\u001b[38;5;241;43m+\u001b[39;49m\u001b[38;5;124;43m\"\u001b[39;49m\u001b[38;5;124;43mgcc\u001b[39;49m\u001b[38;5;124;43m\"\u001b[39;49m\u001b[43m,\u001b[49m\u001b[43m \u001b[49m\u001b[43msylib_path\u001b[49m\u001b[43m,\u001b[49m\u001b[43m \u001b[49m\u001b[38;5;124;43m\"\u001b[39;49m\u001b[38;5;124;43m-c\u001b[39;49m\u001b[38;5;124;43m\"\u001b[39;49m\u001b[43m,\u001b[49m\u001b[43m \u001b[49m\u001b[38;5;124;43m\"\u001b[39;49m\u001b[38;5;124;43m-o\u001b[39;49m\u001b[38;5;124;43m\"\u001b[39;49m\u001b[43m,\u001b[49m\u001b[43m \u001b[49m\u001b[43mtemp_path\u001b[49m\u001b[38;5;241;43m+\u001b[39;49m\u001b[38;5;124;43m\"\u001b[39;49m\u001b[38;5;124;43m/sylib.o\u001b[39;49m\u001b[38;5;124;43m\"\u001b[39;49m\u001b[43m]\u001b[49m\u001b[43m)\u001b[49m\n",
      "File \u001b[0;32m/usr/lib/python3.10/subprocess.py:503\u001b[0m, in \u001b[0;36mrun\u001b[0;34m(input, capture_output, timeout, check, *popenargs, **kwargs)\u001b[0m\n\u001b[1;32m    500\u001b[0m     kwargs[\u001b[38;5;124m'\u001b[39m\u001b[38;5;124mstdout\u001b[39m\u001b[38;5;124m'\u001b[39m] \u001b[38;5;241m=\u001b[39m PIPE\n\u001b[1;32m    501\u001b[0m     kwargs[\u001b[38;5;124m'\u001b[39m\u001b[38;5;124mstderr\u001b[39m\u001b[38;5;124m'\u001b[39m] \u001b[38;5;241m=\u001b[39m PIPE\n\u001b[0;32m--> 503\u001b[0m \u001b[38;5;28;01mwith\u001b[39;00m \u001b[43mPopen\u001b[49m\u001b[43m(\u001b[49m\u001b[38;5;241;43m*\u001b[39;49m\u001b[43mpopenargs\u001b[49m\u001b[43m,\u001b[49m\u001b[43m \u001b[49m\u001b[38;5;241;43m*\u001b[39;49m\u001b[38;5;241;43m*\u001b[39;49m\u001b[43mkwargs\u001b[49m\u001b[43m)\u001b[49m \u001b[38;5;28;01mas\u001b[39;00m process:\n\u001b[1;32m    504\u001b[0m     \u001b[38;5;28;01mtry\u001b[39;00m:\n\u001b[1;32m    505\u001b[0m         stdout, stderr \u001b[38;5;241m=\u001b[39m process\u001b[38;5;241m.\u001b[39mcommunicate(\u001b[38;5;28minput\u001b[39m, timeout\u001b[38;5;241m=\u001b[39mtimeout)\n",
      "File \u001b[0;32m/usr/lib/python3.10/subprocess.py:971\u001b[0m, in \u001b[0;36mPopen.__init__\u001b[0;34m(self, args, bufsize, executable, stdin, stdout, stderr, preexec_fn, close_fds, shell, cwd, env, universal_newlines, startupinfo, creationflags, restore_signals, start_new_session, pass_fds, user, group, extra_groups, encoding, errors, text, umask, pipesize)\u001b[0m\n\u001b[1;32m    967\u001b[0m         \u001b[38;5;28;01mif\u001b[39;00m \u001b[38;5;28mself\u001b[39m\u001b[38;5;241m.\u001b[39mtext_mode:\n\u001b[1;32m    968\u001b[0m             \u001b[38;5;28mself\u001b[39m\u001b[38;5;241m.\u001b[39mstderr \u001b[38;5;241m=\u001b[39m io\u001b[38;5;241m.\u001b[39mTextIOWrapper(\u001b[38;5;28mself\u001b[39m\u001b[38;5;241m.\u001b[39mstderr,\n\u001b[1;32m    969\u001b[0m                     encoding\u001b[38;5;241m=\u001b[39mencoding, errors\u001b[38;5;241m=\u001b[39merrors)\n\u001b[0;32m--> 971\u001b[0m     \u001b[38;5;28;43mself\u001b[39;49m\u001b[38;5;241;43m.\u001b[39;49m\u001b[43m_execute_child\u001b[49m\u001b[43m(\u001b[49m\u001b[43margs\u001b[49m\u001b[43m,\u001b[49m\u001b[43m \u001b[49m\u001b[43mexecutable\u001b[49m\u001b[43m,\u001b[49m\u001b[43m \u001b[49m\u001b[43mpreexec_fn\u001b[49m\u001b[43m,\u001b[49m\u001b[43m \u001b[49m\u001b[43mclose_fds\u001b[49m\u001b[43m,\u001b[49m\n\u001b[1;32m    972\u001b[0m \u001b[43m                        \u001b[49m\u001b[43mpass_fds\u001b[49m\u001b[43m,\u001b[49m\u001b[43m \u001b[49m\u001b[43mcwd\u001b[49m\u001b[43m,\u001b[49m\u001b[43m \u001b[49m\u001b[43menv\u001b[49m\u001b[43m,\u001b[49m\n\u001b[1;32m    973\u001b[0m \u001b[43m                        \u001b[49m\u001b[43mstartupinfo\u001b[49m\u001b[43m,\u001b[49m\u001b[43m \u001b[49m\u001b[43mcreationflags\u001b[49m\u001b[43m,\u001b[49m\u001b[43m \u001b[49m\u001b[43mshell\u001b[49m\u001b[43m,\u001b[49m\n\u001b[1;32m    974\u001b[0m \u001b[43m                        \u001b[49m\u001b[43mp2cread\u001b[49m\u001b[43m,\u001b[49m\u001b[43m \u001b[49m\u001b[43mp2cwrite\u001b[49m\u001b[43m,\u001b[49m\n\u001b[1;32m    975\u001b[0m \u001b[43m                        \u001b[49m\u001b[43mc2pread\u001b[49m\u001b[43m,\u001b[49m\u001b[43m \u001b[49m\u001b[43mc2pwrite\u001b[49m\u001b[43m,\u001b[49m\n\u001b[1;32m    976\u001b[0m \u001b[43m                        \u001b[49m\u001b[43merrread\u001b[49m\u001b[43m,\u001b[49m\u001b[43m \u001b[49m\u001b[43merrwrite\u001b[49m\u001b[43m,\u001b[49m\n\u001b[1;32m    977\u001b[0m \u001b[43m                        \u001b[49m\u001b[43mrestore_signals\u001b[49m\u001b[43m,\u001b[49m\n\u001b[1;32m    978\u001b[0m \u001b[43m                        \u001b[49m\u001b[43mgid\u001b[49m\u001b[43m,\u001b[49m\u001b[43m \u001b[49m\u001b[43mgids\u001b[49m\u001b[43m,\u001b[49m\u001b[43m \u001b[49m\u001b[43muid\u001b[49m\u001b[43m,\u001b[49m\u001b[43m \u001b[49m\u001b[43mumask\u001b[49m\u001b[43m,\u001b[49m\n\u001b[1;32m    979\u001b[0m \u001b[43m                        \u001b[49m\u001b[43mstart_new_session\u001b[49m\u001b[43m)\u001b[49m\n\u001b[1;32m    980\u001b[0m \u001b[38;5;28;01mexcept\u001b[39;00m:\n\u001b[1;32m    981\u001b[0m     \u001b[38;5;66;03m# Cleanup if the child failed starting.\u001b[39;00m\n\u001b[1;32m    982\u001b[0m     \u001b[38;5;28;01mfor\u001b[39;00m f \u001b[38;5;129;01min\u001b[39;00m \u001b[38;5;28mfilter\u001b[39m(\u001b[38;5;28;01mNone\u001b[39;00m, (\u001b[38;5;28mself\u001b[39m\u001b[38;5;241m.\u001b[39mstdin, \u001b[38;5;28mself\u001b[39m\u001b[38;5;241m.\u001b[39mstdout, \u001b[38;5;28mself\u001b[39m\u001b[38;5;241m.\u001b[39mstderr)):\n",
      "File \u001b[0;32m/usr/lib/python3.10/subprocess.py:1863\u001b[0m, in \u001b[0;36mPopen._execute_child\u001b[0;34m(self, args, executable, preexec_fn, close_fds, pass_fds, cwd, env, startupinfo, creationflags, shell, p2cread, p2cwrite, c2pread, c2pwrite, errread, errwrite, restore_signals, gid, gids, uid, umask, start_new_session)\u001b[0m\n\u001b[1;32m   1861\u001b[0m     \u001b[38;5;28;01mif\u001b[39;00m errno_num \u001b[38;5;241m!=\u001b[39m \u001b[38;5;241m0\u001b[39m:\n\u001b[1;32m   1862\u001b[0m         err_msg \u001b[38;5;241m=\u001b[39m os\u001b[38;5;241m.\u001b[39mstrerror(errno_num)\n\u001b[0;32m-> 1863\u001b[0m     \u001b[38;5;28;01mraise\u001b[39;00m child_exception_type(errno_num, err_msg, err_filename)\n\u001b[1;32m   1864\u001b[0m \u001b[38;5;28;01mraise\u001b[39;00m child_exception_type(err_msg)\n",
      "\u001b[0;31mFileNotFoundError\u001b[0m: [Errno 2] No such file or directory: '/home/r1c0/riscv/bin/riscv64-unknown-linux-gnu-gcc'"
     ]
    }
   ],
   "source": [
    "# Compile the sylib.c\n",
    "subprocess.run([toolchain_path+\"gcc\", sylib_path, \"-c\", \"-o\", temp_path+\"/sylib.o\"])"
   ]
  },
  {
   "cell_type": "code",
   "execution_count": null,
   "id": "b9464006",
   "metadata": {},
   "outputs": [],
   "source": [
    "# if len(Prob_list) == 0:\n",
    "#     GrabFile()\n",
    "# else:\n",
    "#     test_list=Prob_list\n",
    "#     Prob_list.clear()\n",
    "\n",
    "test_list=['./testcases/performance/01_mm1.sy']\n",
    "    \n",
    "for test in test_list:\n",
    "    if test.endswith(\".sy\"):\n",
    "        TestSingleCase(test)"
   ]
  },
  {
   "cell_type": "code",
   "execution_count": null,
   "id": "3e6fc2f1",
   "metadata": {},
   "outputs": [],
   "source": [
    "# print all wrong tests and mv one of them to temp_folder for debugging\n",
    "print(len(AC_list))\n",
    "print(len(WA_list))\n",
    "print(len(CE_list))\n",
    "print(len(AE_list))\n",
    "print(len(LE_list))\n",
    "print(len(Time_Out))\n",
    "print(len(TLE_list))\n",
    "print(len(BadTest_list))"
   ]
  },
  {
   "cell_type": "code",
   "execution_count": null,
   "id": "c7426251",
   "metadata": {},
   "outputs": [],
   "source": [
    "def MV2WorkSpace(CasesList,k):\n",
    "    case = CasesList[k]\n",
    "    CopyFileToTemp(case)\n",
    "    print(case)\n",
    "    return\n",
    "        \n",
    "# MV2WorkSpace(TLE_list,0)\n",
    "# TLE_list=['./testcases/h_performance/h-2-03.sy', './testcases/h_performance/h-3-01.sy', './testcases/h_performance/h-2-02.sy', './testcases/h_performance/h-3-03.sy', './testcases/h_performance/h-2-01.sy', './testcases/h_performance/h-3-02.sy', './testcases/performance/gameoflife-gosper.sy', './testcases/performance/if-combine1.sy', './testcases/performance/if-combine3.sy', './testcases/performance/matmul2.sy', './testcases/performance/if-combine2.sy', './testcases/performance/matmul3.sy', './testcases/performance/large_loop_array_1.sy', './testcases/performance/gameoflife-p61glidergun.sy', './testcases/performance/large_loop_array_2.sy', './testcases/performance/recursive_call_1.sy', './testcases/performance/large_loop_array_3.sy']\n",
    "\n",
    "# MV2WorkSpace(TLE_list,0)\n",
    "\n",
    "print(WA_list)\n",
    "print(CE_list)\n",
    "print(Time_Out)\n",
    "print(TLE_list)"
   ]
  }
 ],
 "metadata": {
  "kernelspec": {
   "display_name": ".venv",
   "language": "python",
   "name": "python3"
  },
  "language_info": {
   "codemirror_mode": {
    "name": "ipython",
    "version": 3
   },
   "file_extension": ".py",
   "mimetype": "text/x-python",
   "name": "python",
   "nbconvert_exporter": "python",
   "pygments_lexer": "ipython3",
   "version": "3.10.12"
  }
 },
 "nbformat": 4,
 "nbformat_minor": 5
}
